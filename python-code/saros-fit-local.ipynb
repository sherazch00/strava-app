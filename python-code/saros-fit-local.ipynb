{
 "cells": [
  {
   "cell_type": "markdown",
   "metadata": {},
   "source": [
    "---\n",
    "\n",
    "# Download Activity Summary and Details from Strava\n",
    "\n",
    "\n",
    "\n",
    "Strava provides basic information on how to get access to the API at https://developers.strava.com/docs/getting-started/.  The information from the Strava API page combined with https://towardsdatascience.com/using-the-strava-api-and-pandas-to-explore-your-activity-data-d94901d9bfde and other websites allowed me to write the code necessary to connect to Strava.\n",
    "\n",
    "With some additional research I was able to download all my activites and their summary data.  Though, in all my online searching I could not find any good examples of how to download all the detailed activity streams associated with each Strava activity.  The code to download activity details was mostly written from scratch.\n",
    "\n",
    "**The value of this notebook is:**\n",
    "   - example of code to authentiate and connect to the Strava API (follow Strava instructions to create an app)\n",
    "   - download all activities and their associated summaries to a dataframe\n",
    "   - download all 11 detailed activity streams for each activity to a dataframe\n",
    "   - single notebook that authentiates to Strava, downloads activity summaries and downloads activity details\n",
    "    \n",
    "**Addtional useful features:**\n",
    "   - controls the number of requests so they don't exceed Strava's default limits (100 requests/15 min)\n",
    "   - stores all download activity details in pkl and csv format\n",
    "   - loads previously downloaded activity details and then only downloads details for new activities\n",
    "    \n",
    "\n",
    "\n",
    "\n",
    "###### NEXT STEPS: \n",
    "  - Create a separate notebook that loads the pkl file with activity details\n",
    "      - run basic analysis and create visualizations on the activity details\n",
    "      - run machine learning models on the activity details to find patterns in heartrate and wattage numbers\n",
    "\n",
    "---\n",
    "\n",
    "**Written by:  Sheraz Choudhary**\n",
    "\n",
    "**Date:        November 2021** \n",
    "\n",
    "---"
   ]
  },
  {
   "cell_type": "code",
   "execution_count": null,
   "metadata": {},
   "outputs": [],
   "source": [
    "# import libraries\n",
    "\n",
    "import requests\n",
    "import urllib3\n",
    "urllib3.disable_warnings(urllib3.exceptions.InsecureRequestWarning)\n",
    "import warnings\n",
    "\n",
    "import numpy as np\n",
    "import pandas as pd\n",
    "\n",
    "import os\n",
    "from os.path import join\n",
    "import sys\n",
    "import subprocess\n",
    "import pathlib\n",
    "from dotenv import load_dotenv\n",
    "\n",
    "import codecs\n",
    "from codecs import open\n",
    "from datetime import date\n",
    "import time\n",
    "\n",
    "import matplotlib\n",
    "import matplotlib.pyplot as plt\n",
    "%matplotlib inline\n",
    "\n",
    "# from fitparse import FitFile # (http://johannesjacob.com/2019/03/13/analyze-your-cycling-data-python/)\n",
    "# import fitparse"
   ]
  },
  {
   "cell_type": "code",
   "execution_count": null,
   "metadata": {},
   "outputs": [],
   "source": [
    "# display upto 100 columns and 100 rows\n",
    "\n",
    "pd.set_option('display.max_columns', 100)\n",
    "pd.set_option('display.max_rows', 100)"
   ]
  },
  {
   "cell_type": "markdown",
   "metadata": {},
   "source": [
    "## Connect to Strava -- Get Current Access Token"
   ]
  },
  {
   "cell_type": "code",
   "execution_count": null,
   "metadata": {},
   "outputs": [],
   "source": [
    "# (https://www.realpythonproject.com/3-ways-to-store-and-read-credentials-locally-in-python/)\n",
    "credential_file = join(os.getcwd(), 'strava-credentials.env')\n",
    "\n",
    "load_dotenv(credential_file)\n",
    "client_id = os.environ.get('client_id')\n",
    "client_secret = os.environ.get('client_secret')\n",
    "refresh_token = os.environ.get('refresh_token')"
   ]
  },
  {
   "cell_type": "code",
   "execution_count": null,
   "metadata": {},
   "outputs": [],
   "source": [
    "# (https://github.com/franchyze923/Code_From_Tutorials/blob/master/Strava_Api/strava_api.py)\n",
    "\n",
    "auth_url = \"https://www.strava.com/oauth/token\"\n",
    "\n",
    "payload = {\n",
    "    'client_id': client_id,\n",
    "    'client_secret': client_secret,\n",
    "    'refresh_token': refresh_token,\n",
    "    'grant_type': \"refresh_token\",\n",
    "    'f': 'json'\n",
    "}\n",
    "\n",
    "print(\"Requesting Token...\\n\")\n",
    "res = requests.post(auth_url, data=payload, verify=False)\n",
    "access_token = res.json()['access_token']\n",
    "print(\"Access Token = {}\\n\".format(\"Received!\"))"
   ]
  },
  {
   "cell_type": "markdown",
   "metadata": {},
   "source": [
    "## Create Dataframe with Summary Info for All Activities *(Strava API)*"
   ]
  },
  {
   "cell_type": "code",
   "execution_count": null,
   "metadata": {},
   "outputs": [],
   "source": [
    "%%time\n",
    "\n",
    "# (http://www.hainke.ca/index.php/2018/08/23/using-the-strava-api-to-retrieve-activity-data/)\n",
    "\n",
    "# Initialize the dataframe\n",
    "activities_overview = pd.DataFrame()\n",
    "\n",
    "url = \"https://www.strava.com/api/v3/athlete/activities\"\n",
    "page = 1\n",
    "\n",
    "while True:\n",
    "  \n",
    "    # get page of activities from Strava\n",
    "    page_json = requests.get(url + '?access_token=' + access_token + '&per_page=200' + '&page=' + str(page)).json()\n",
    "\n",
    "    for a in range(len(page_json)):\n",
    "        activity_json = pd.json_normalize(page_json[a])  #(https://stackoverflow.com/questions/21104592/)\n",
    "        activities_overview = activities_overview.append(activity_json, ignore_index=True) \n",
    "\n",
    "    # if no results then exit loop\n",
    "    if (not page_json):\n",
    "        break\n",
    "\n",
    "    # increment page\n",
    "    page += 1"
   ]
  },
  {
   "cell_type": "code",
   "execution_count": null,
   "metadata": {},
   "outputs": [],
   "source": [
    "activities_overview = activities_overview.sort_values(by='id', ascending=True)  # makes sense since new added on bottom"
   ]
  },
  {
   "cell_type": "code",
   "execution_count": null,
   "metadata": {},
   "outputs": [],
   "source": [
    "activities_overview.tail(5)"
   ]
  },
  {
   "cell_type": "code",
   "execution_count": null,
   "metadata": {},
   "outputs": [],
   "source": [
    "print(\"Number of Strava Activities Found: \", activities_overview.shape)"
   ]
  },
  {
   "cell_type": "code",
   "execution_count": null,
   "metadata": {},
   "outputs": [],
   "source": [
    "activities_overview.to_csv('activities_overview.csv', header=True)"
   ]
  },
  {
   "cell_type": "markdown",
   "metadata": {},
   "source": [
    "## Create Dataframe with Detailed Activity Data Streams for New Activities *(Strava API)*"
   ]
  },
  {
   "cell_type": "raw",
   "metadata": {},
   "source": [
    "Streams Available via Strava API (https://developers.strava.com/docs/reference/#api-models-StreamSet\n",
    "                                 )\n",
    "time....................TimeStream\tAn instance of TimeStream.\n",
    "distance................DistanceStream\tAn instance of DistanceStream.\n",
    "latlng..................LatLngStream\tAn instance of LatLngStream.\n",
    "altitude................AltitudeStream\tAn instance of AltitudeStream.\n",
    "velocity_smooth.........SmoothVelocityStream\tAn instance of SmoothVelocityStream.\n",
    "heartrate...............HeartrateStream\tAn instance of HeartrateStream.\n",
    "cadence.................CadenceStream\tAn instance of CadenceStream.\n",
    "watts...................PowerStream\tAn instance of PowerStream.\n",
    "temp....................TemperatureStream\tAn instance of TemperatureStream.\n",
    "moving..................MovingStream\tAn instance of MovingStream.\n",
    "grade_smooth............SmoothGradeStream\tAn instance of SmoothGradeStream.\n",
    "\n",
    "# https://www.strava.com/api/v3/activities/4998708851/streams?access_token=######&keys=moving&key_by_type=true"
   ]
  },
  {
   "cell_type": "code",
   "execution_count": null,
   "metadata": {},
   "outputs": [],
   "source": [
    "def activity_streams(id):\n",
    "    a_dict = {}\n",
    "    a_df = pd.DataFrame()\n",
    "    a_url = \"https://www.strava.com/api/v3/activities/\"\n",
    "    \n",
    "    streams_list = ['time','distance','latlng','altitude','velocity_smooth','heartrate','cadence','watts','temp',\n",
    "                    'moving','grade_smooth']\n",
    "    streams_text = 'time,distance,latlng,altitude,velocity_smooth,heartrate,cadence,watts,temp,moving,grade_smooth'\n",
    "\n",
    "    a_json = pd.json_normalize(requests.get(a_url + str(id) + '/streams?access_token=' + access_token + \n",
    "                                             '&keys=time,distance,latlng,altitude,velocity_smooth,heartrate,cadence,watts,temp,moving,grade_smooth' + \n",
    "                                             '&key_by_type=true').json())\n",
    "\n",
    "    for a in range(0,len(streams_list)):\n",
    "        try:\n",
    "            a_df[streams_list[a]] = a_json[str(streams_list[a]) +'.data'][0]\n",
    "        except:\n",
    "            a_df[streams_list[a]] = np.nan\n",
    "\n",
    "    a_df['id'] = id\n",
    "    idx = activities_overview.index[activities_overview['id'] == id].tolist()[0]\n",
    "\n",
    "    a_df['date'] = activities_overview['start_date_local'][idx]\n",
    "    a_df['name'] = activities_overview['name'][idx]\n",
    "    a_df['type'] = activities_overview['type'][idx]\n",
    "\n",
    "    return a_df"
   ]
  },
  {
   "cell_type": "markdown",
   "metadata": {},
   "source": [
    "### Load Already Downloaded Activity Details if Present"
   ]
  },
  {
   "cell_type": "code",
   "execution_count": null,
   "metadata": {},
   "outputs": [],
   "source": [
    "%%time\n",
    "\n",
    "try:\n",
    "    activities_details = pd.read_pickle('activities_details.pkl')\n",
    "    \n",
    "except:\n",
    "    activities_details = pd.DataFrame()"
   ]
  },
  {
   "cell_type": "code",
   "execution_count": null,
   "metadata": {},
   "outputs": [],
   "source": [
    "activities_details.info()"
   ]
  },
  {
   "cell_type": "code",
   "execution_count": null,
   "metadata": {},
   "outputs": [],
   "source": [
    "activities_details.tail()"
   ]
  },
  {
   "cell_type": "markdown",
   "metadata": {},
   "source": [
    "### Download only Details for New Activities"
   ]
  },
  {
   "cell_type": "code",
   "execution_count": null,
   "metadata": {},
   "outputs": [],
   "source": [
    "%%time\n",
    "\n",
    "#(https://thispointer.com/pandas-check-if-a-value-exists-in-a-dataframe-using-in-not-in-operator-isin/)\n",
    "\n",
    "a_details_to_import = []\n",
    "a_already_downloaded = activities_details['id'].unique()\n",
    "\n",
    "for a in activities_overview['id']:\n",
    "    try: # faster searching in only one column\n",
    "        if a in a_already_downloaded:  \n",
    "            pass\n",
    "        else:\n",
    "            a_details_to_import.append(a)\n",
    "            \n",
    "    except: # if empty dataframe searching in 'id' column will fail\n",
    "        if a in activities_details.values:\n",
    "            pass\n",
    "        else:\n",
    "            a_details_to_import.append(a)                         \n",
    "    \n",
    "print(\"Number of Activities to Import:  \" + str(len(a_details_to_import)))"
   ]
  },
  {
   "cell_type": "code",
   "execution_count": null,
   "metadata": {
    "scrolled": true
   },
   "outputs": [],
   "source": [
    "# Activities that have no details will always show up because they will never have any details added\n",
    "\n",
    "a_details_to_import"
   ]
  },
  {
   "cell_type": "code",
   "execution_count": null,
   "metadata": {
    "scrolled": true
   },
   "outputs": [],
   "source": [
    "%%time\n",
    "\n",
    "a_range_l = 0\n",
    "a_range_h = 89\n",
    "a_number = len(a_details_to_import)\n",
    "\n",
    "while a_range_l < a_number:\n",
    "    if a_range_l > 0:\n",
    "        print('Waiting...')\n",
    "        time.sleep(1000) #wait a little over 16m40s to be safe (100 requests per 15min limit)\n",
    "    \n",
    "    print('Downloading activities ' + str(a_range_l) + ' to ' + str(a_range_h) +' ...')\n",
    "    \n",
    "    for a in a_details_to_import[a_range_l:a_range_h]:\n",
    "        print('Downloading activity ', a)\n",
    "        a_df_curr = activity_streams(a)\n",
    "        activities_details = activities_details.append(a_df_curr, ignore_index=True) \n",
    "\n",
    "    a_range_l = a_range_l + 90 #90 rather than 100 to be safe\n",
    "    a_range_h = a_range_h + 90 #90 rather than 100 to be safe\n",
    "\n",
    "print('Done getting details for all new activities.')"
   ]
  },
  {
   "cell_type": "code",
   "execution_count": null,
   "metadata": {},
   "outputs": [],
   "source": [
    "display(activities_details.head(2))\n",
    "display(activities_details.tail(2))"
   ]
  },
  {
   "cell_type": "code",
   "execution_count": null,
   "metadata": {},
   "outputs": [],
   "source": [
    "print(\"Number of Rows for all Activities Found: \", activities_details.shape)"
   ]
  },
  {
   "cell_type": "code",
   "execution_count": null,
   "metadata": {},
   "outputs": [],
   "source": [
    "print(\"Sum of Moving Time:   \", activities_overview['moving_time'].sum())\n",
    "print(\"\")\n",
    "print(\"Sum of Elapsed Time:  \", activities_overview['elapsed_time'].sum())"
   ]
  },
  {
   "cell_type": "code",
   "execution_count": null,
   "metadata": {},
   "outputs": [],
   "source": [
    "activities_details.to_pickle('activities_details.pkl')"
   ]
  },
  {
   "cell_type": "code",
   "execution_count": null,
   "metadata": {},
   "outputs": [],
   "source": [
    "%%time\n",
    "\n",
    "activities_details.to_csv('activities_details.csv', header=True)"
   ]
  },
  {
   "cell_type": "code",
   "execution_count": null,
   "metadata": {},
   "outputs": [],
   "source": []
  }
 ],
 "metadata": {
  "kernelspec": {
   "display_name": "Python 3",
   "language": "python",
   "name": "python3"
  },
  "language_info": {
   "codemirror_mode": {
    "name": "ipython",
    "version": 3
   },
   "file_extension": ".py",
   "mimetype": "text/x-python",
   "name": "python",
   "nbconvert_exporter": "python",
   "pygments_lexer": "ipython3",
   "version": "3.7.6"
  }
 },
 "nbformat": 4,
 "nbformat_minor": 4
}
